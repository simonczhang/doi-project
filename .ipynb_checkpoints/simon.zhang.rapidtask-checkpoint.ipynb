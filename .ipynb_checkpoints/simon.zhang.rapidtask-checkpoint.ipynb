{
 "cells": [
  {
   "cell_type": "code",
   "execution_count": 312,
   "metadata": {},
   "outputs": [],
   "source": [
    "from IPython.core.interactiveshell import InteractiveShell\n",
    "InteractiveShell.ast_node_interactivity = \"all\"\n",
    "import numpy as np\n",
    "import pandas as pd\n",
    "import seaborn as sns\n",
    "import matplotlib.pyplot as plt\n",
    "from ggplot import *\n",
    "from pprint import pprint"
   ]
  },
  {
   "cell_type": "code",
   "execution_count": 313,
   "metadata": {},
   "outputs": [],
   "source": [
    "ddf = pd.read_csv('district_data.csv')\n",
    "sdf = pd.read_csv('school_data.csv')"
   ]
  },
  {
   "cell_type": "code",
   "execution_count": 314,
   "metadata": {},
   "outputs": [
    {
     "data": {
      "text/html": [
       "<div>\n",
       "<style scoped>\n",
       "    .dataframe tbody tr th:only-of-type {\n",
       "        vertical-align: middle;\n",
       "    }\n",
       "\n",
       "    .dataframe tbody tr th {\n",
       "        vertical-align: top;\n",
       "    }\n",
       "\n",
       "    .dataframe thead th {\n",
       "        text-align: right;\n",
       "    }\n",
       "</style>\n",
       "<table border=\"1\" class=\"dataframe\">\n",
       "  <thead>\n",
       "    <tr style=\"text-align: right;\">\n",
       "      <th></th>\n",
       "      <th>corp1</th>\n",
       "      <th>treatment</th>\n",
       "    </tr>\n",
       "  </thead>\n",
       "  <tbody>\n",
       "    <tr>\n",
       "      <th>0</th>\n",
       "      <td>29</td>\n",
       "      <td>1</td>\n",
       "    </tr>\n",
       "    <tr>\n",
       "      <th>1</th>\n",
       "      <td>129</td>\n",
       "      <td>1</td>\n",
       "    </tr>\n",
       "    <tr>\n",
       "      <th>2</th>\n",
       "      <td>239</td>\n",
       "      <td>0</td>\n",
       "    </tr>\n",
       "    <tr>\n",
       "      <th>3</th>\n",
       "      <td>259</td>\n",
       "      <td>1</td>\n",
       "    </tr>\n",
       "    <tr>\n",
       "      <th>4</th>\n",
       "      <td>369</td>\n",
       "      <td>1</td>\n",
       "    </tr>\n",
       "  </tbody>\n",
       "</table>\n",
       "</div>"
      ],
      "text/plain": [
       "   corp1  treatment\n",
       "0     29          1\n",
       "1    129          1\n",
       "2    239          0\n",
       "3    259          1\n",
       "4    369          1"
      ]
     },
     "execution_count": 314,
     "metadata": {},
     "output_type": "execute_result"
    }
   ],
   "source": [
    "ddf.head()"
   ]
  },
  {
   "cell_type": "code",
   "execution_count": 315,
   "metadata": {},
   "outputs": [
    {
     "data": {
      "text/plain": [
       "(156, 2)"
      ]
     },
     "execution_count": 315,
     "metadata": {},
     "output_type": "execute_result"
    }
   ],
   "source": [
    "ddf.shape"
   ]
  },
  {
   "cell_type": "code",
   "execution_count": 316,
   "metadata": {},
   "outputs": [
    {
     "data": {
      "text/plain": [
       "1    88\n",
       "0    68\n",
       "Name: treatment, dtype: int64"
      ]
     },
     "execution_count": 316,
     "metadata": {},
     "output_type": "execute_result"
    }
   ],
   "source": [
    "ddf['treatment'].value_counts()"
   ]
  },
  {
   "cell_type": "markdown",
   "metadata": {},
   "source": [
    "There is 88 districts that have been treated and 68 that have not out of 156 districts."
   ]
  },
  {
   "cell_type": "code",
   "execution_count": 317,
   "metadata": {},
   "outputs": [
    {
     "data": {
      "text/plain": [
       "5374    1\n",
       "5459    1\n",
       "2654    1\n",
       "3164    1\n",
       "3419    1\n",
       "5284    1\n",
       "1624    1\n",
       "1879    1\n",
       "5629    1\n",
       "4219    1\n",
       "5619    1\n",
       "3409    1\n",
       "3029    1\n",
       "3149    1\n",
       "2124    1\n",
       "1604    1\n",
       "3139    1\n",
       "2114    1\n",
       "2399    1\n",
       "1129    1\n",
       "4349    1\n",
       "4684    1\n",
       "4734    1\n",
       "5344    1\n",
       "2819    1\n",
       "1659    1\n",
       "1914    1\n",
       "3449    1\n",
       "5624    1\n",
       "4419    1\n",
       "       ..\n",
       "4149    1\n",
       "399     1\n",
       "3009    1\n",
       "1164    1\n",
       "5259    1\n",
       "3464    1\n",
       "2439    1\n",
       "3714    1\n",
       "4229    1\n",
       "3459    1\n",
       "3484    1\n",
       "3999    1\n",
       "1184    1\n",
       "4594    1\n",
       "5489    1\n",
       "4539    1\n",
       "5524    1\n",
       "5304    1\n",
       "1974    1\n",
       "2739    1\n",
       "4529    1\n",
       "944     1\n",
       "6059    1\n",
       "4744    1\n",
       "2984    1\n",
       "4519    1\n",
       "3494    1\n",
       "4004    1\n",
       "674     1\n",
       "5639    1\n",
       "Name: corp1, Length: 156, dtype: int64"
      ]
     },
     "execution_count": 317,
     "metadata": {},
     "output_type": "execute_result"
    }
   ],
   "source": [
    "ddf['corp1'].value_counts()"
   ]
  },
  {
   "cell_type": "markdown",
   "metadata": {},
   "source": [
    "I wanted to make sure all the 156 district keys were indeed uniqe in the district dataset."
   ]
  },
  {
   "cell_type": "code",
   "execution_count": 318,
   "metadata": {},
   "outputs": [
    {
     "data": {
      "text/plain": [
       "corp1        0\n",
       "treatment    0\n",
       "dtype: int64"
      ]
     },
     "execution_count": 318,
     "metadata": {},
     "output_type": "execute_result"
    }
   ],
   "source": [
    "ddf.isnull().sum()"
   ]
  },
  {
   "cell_type": "markdown",
   "metadata": {},
   "source": [
    "There doesn't seem to be any values explicitly missing from the district dataset."
   ]
  },
  {
   "cell_type": "code",
   "execution_count": 319,
   "metadata": {},
   "outputs": [
    {
     "data": {
      "text/html": [
       "<div>\n",
       "<style scoped>\n",
       "    .dataframe tbody tr th:only-of-type {\n",
       "        vertical-align: middle;\n",
       "    }\n",
       "\n",
       "    .dataframe tbody tr th {\n",
       "        vertical-align: top;\n",
       "    }\n",
       "\n",
       "    .dataframe thead th {\n",
       "        text-align: right;\n",
       "    }\n",
       "</style>\n",
       "<table border=\"1\" class=\"dataframe\">\n",
       "  <thead>\n",
       "    <tr style=\"text-align: right;\">\n",
       "      <th></th>\n",
       "      <th>district</th>\n",
       "      <th>schl1</th>\n",
       "      <th>enrollment</th>\n",
       "      <th>asian_pct</th>\n",
       "      <th>black_pct</th>\n",
       "      <th>hispanic_pct</th>\n",
       "      <th>white_pct</th>\n",
       "      <th>pct_frl</th>\n",
       "      <th>ed_lesshs</th>\n",
       "      <th>positive_env</th>\n",
       "      <th>mathscore_gain_std</th>\n",
       "    </tr>\n",
       "  </thead>\n",
       "  <tbody>\n",
       "    <tr>\n",
       "      <th>0</th>\n",
       "      <td>5914</td>\n",
       "      <td>6320</td>\n",
       "      <td>241</td>\n",
       "      <td>0.006920</td>\n",
       "      <td>0.000000</td>\n",
       "      <td>0.000000</td>\n",
       "      <td>0.989619</td>\n",
       "      <td>0.161512</td>\n",
       "      <td>18.500000</td>\n",
       "      <td>0</td>\n",
       "      <td>-1.045121</td>\n",
       "    </tr>\n",
       "    <tr>\n",
       "      <th>1</th>\n",
       "      <td>239</td>\n",
       "      <td>155</td>\n",
       "      <td>514</td>\n",
       "      <td>0.017143</td>\n",
       "      <td>0.179048</td>\n",
       "      <td>0.032381</td>\n",
       "      <td>0.735238</td>\n",
       "      <td>0.349462</td>\n",
       "      <td>16.000000</td>\n",
       "      <td>1</td>\n",
       "      <td>-0.846501</td>\n",
       "    </tr>\n",
       "    <tr>\n",
       "      <th>2</th>\n",
       "      <td>4319</td>\n",
       "      <td>3514</td>\n",
       "      <td>258</td>\n",
       "      <td>0.000000</td>\n",
       "      <td>0.000000</td>\n",
       "      <td>0.019084</td>\n",
       "      <td>0.938931</td>\n",
       "      <td>0.653199</td>\n",
       "      <td>20.400000</td>\n",
       "      <td>0</td>\n",
       "      <td>-0.146986</td>\n",
       "    </tr>\n",
       "    <tr>\n",
       "      <th>3</th>\n",
       "      <td>3449</td>\n",
       "      <td>2842</td>\n",
       "      <td>320</td>\n",
       "      <td>0.000000</td>\n",
       "      <td>0.015823</td>\n",
       "      <td>0.000000</td>\n",
       "      <td>0.958861</td>\n",
       "      <td>0.226837</td>\n",
       "      <td>23.299999</td>\n",
       "      <td>0</td>\n",
       "      <td>-0.064126</td>\n",
       "    </tr>\n",
       "    <tr>\n",
       "      <th>4</th>\n",
       "      <td>4209</td>\n",
       "      <td>3428</td>\n",
       "      <td>472</td>\n",
       "      <td>0.030426</td>\n",
       "      <td>0.000000</td>\n",
       "      <td>0.010142</td>\n",
       "      <td>0.959432</td>\n",
       "      <td>0.000000</td>\n",
       "      <td>7.700000</td>\n",
       "      <td>0</td>\n",
       "      <td>2.243462</td>\n",
       "    </tr>\n",
       "  </tbody>\n",
       "</table>\n",
       "</div>"
      ],
      "text/plain": [
       "   district  schl1  enrollment  asian_pct  black_pct  hispanic_pct  white_pct  \\\n",
       "0      5914   6320         241   0.006920   0.000000      0.000000   0.989619   \n",
       "1       239    155         514   0.017143   0.179048      0.032381   0.735238   \n",
       "2      4319   3514         258   0.000000   0.000000      0.019084   0.938931   \n",
       "3      3449   2842         320   0.000000   0.015823      0.000000   0.958861   \n",
       "4      4209   3428         472   0.030426   0.000000      0.010142   0.959432   \n",
       "\n",
       "    pct_frl  ed_lesshs  positive_env  mathscore_gain_std  \n",
       "0  0.161512  18.500000             0           -1.045121  \n",
       "1  0.349462  16.000000             1           -0.846501  \n",
       "2  0.653199  20.400000             0           -0.146986  \n",
       "3  0.226837  23.299999             0           -0.064126  \n",
       "4  0.000000   7.700000             0            2.243462  "
      ]
     },
     "execution_count": 319,
     "metadata": {},
     "output_type": "execute_result"
    }
   ],
   "source": [
    "sdf.head()"
   ]
  },
  {
   "cell_type": "code",
   "execution_count": 320,
   "metadata": {},
   "outputs": [
    {
     "data": {
      "text/plain": [
       "(520, 11)"
      ]
     },
     "execution_count": 320,
     "metadata": {},
     "output_type": "execute_result"
    }
   ],
   "source": [
    "sdf.shape"
   ]
  },
  {
   "cell_type": "code",
   "execution_count": 321,
   "metadata": {},
   "outputs": [
    {
     "data": {
      "text/plain": [
       "3068    1\n",
       "2796    1\n",
       "5420    1\n",
       "302     1\n",
       "303     1\n",
       "1328    1\n",
       "6450    1\n",
       "5954    1\n",
       "2450    1\n",
       "1334    1\n",
       "6368    1\n",
       "2362    1\n",
       "1344    1\n",
       "321     1\n",
       "3394    1\n",
       "171     1\n",
       "1350    1\n",
       "1352    1\n",
       "2898    1\n",
       "5454    1\n",
       "1359    1\n",
       "2386    1\n",
       "4440    1\n",
       "4442    1\n",
       "4444    1\n",
       "210     1\n",
       "4446    1\n",
       "2858    1\n",
       "4448    1\n",
       "1378    1\n",
       "       ..\n",
       "3738    1\n",
       "5344    1\n",
       "2262    1\n",
       "642     1\n",
       "590     1\n",
       "3298    1\n",
       "1702    1\n",
       "3724    1\n",
       "2704    1\n",
       "1054    1\n",
       "1026    1\n",
       "1398    1\n",
       "3734    1\n",
       "760     1\n",
       "2718    1\n",
       "3766    1\n",
       "1690    1\n",
       "3746    1\n",
       "2579    1\n",
       "2726    1\n",
       "2727    1\n",
       "2728    1\n",
       "2670    1\n",
       "2732    1\n",
       "4862    1\n",
       "688     1\n",
       "3762    1\n",
       "129     1\n",
       "3134    1\n",
       "5362    1\n",
       "Name: schl1, Length: 520, dtype: int64"
      ]
     },
     "execution_count": 321,
     "metadata": {},
     "output_type": "execute_result"
    }
   ],
   "source": [
    "sdf['schl1'].value_counts()"
   ]
  },
  {
   "cell_type": "markdown",
   "metadata": {},
   "source": [
    "Looks like there are indeed 520 unique schools in the dataset."
   ]
  },
  {
   "cell_type": "code",
   "execution_count": 322,
   "metadata": {},
   "outputs": [
    {
     "data": {
      "text/plain": [
       "239     31\n",
       "1014    12\n",
       "4714    12\n",
       "5744    12\n",
       "1974    12\n",
       "5364    10\n",
       "5334    10\n",
       "5279    10\n",
       "259      9\n",
       "5079     9\n",
       "5344     9\n",
       "5354     8\n",
       "5929     8\n",
       "5374     8\n",
       "369      8\n",
       "2399     8\n",
       "4419     7\n",
       "4929     7\n",
       "1129     7\n",
       "3009     7\n",
       "2869     7\n",
       "3629     7\n",
       "3949     7\n",
       "4619     6\n",
       "4664     6\n",
       "3999     6\n",
       "4209     6\n",
       "3449     6\n",
       "5314     5\n",
       "4229     5\n",
       "        ..\n",
       "2459     1\n",
       "3819     1\n",
       "8539     1\n",
       "3484     1\n",
       "5524     1\n",
       "3494     1\n",
       "2444     1\n",
       "2439     1\n",
       "3459     1\n",
       "3059     1\n",
       "519      1\n",
       "4584     1\n",
       "3439     1\n",
       "4459     1\n",
       "5624     1\n",
       "5459     1\n",
       "4329     1\n",
       "3409     1\n",
       "5999     1\n",
       "3644     1\n",
       "5384     1\n",
       "5709     1\n",
       "1624     1\n",
       "3329     1\n",
       "2654     1\n",
       "3714     1\n",
       "4774     1\n",
       "3309     1\n",
       "5529     1\n",
       "2739     1\n",
       "Name: district, Length: 152, dtype: int64"
      ]
     },
     "execution_count": 322,
     "metadata": {},
     "output_type": "execute_result"
    }
   ],
   "source": [
    "sdf['district'].value_counts()"
   ]
  },
  {
   "cell_type": "markdown",
   "metadata": {},
   "source": [
    "In the district dataset there were 156 unique district keys. In the school dataset there are only 152 districts with data. The below districts are not present in the school dataset but exist in the district dataset."
   ]
  },
  {
   "cell_type": "code",
   "execution_count": 323,
   "metadata": {},
   "outputs": [
    {
     "name": "stdout",
     "output_type": "stream",
     "text": [
      "[2044, 2769, 4019, 5839]\n"
     ]
    }
   ],
   "source": [
    "d_s = sdf['district'].tolist()\n",
    "missing_districts = []\n",
    "for i, s in ddf.iterrows():\n",
    "    district = s['corp1']\n",
    "    if district not in d_s:\n",
    "        missing_districts.append(district)\n",
    "print(missing_districts)"
   ]
  },
  {
   "cell_type": "code",
   "execution_count": 324,
   "metadata": {},
   "outputs": [
    {
     "name": "stdout",
     "output_type": "stream",
     "text": [
      "53\n"
     ]
    }
   ],
   "source": [
    "district_count = sdf['district'].value_counts()\n",
    "print(len(district_count[district_count<2]))"
   ]
  },
  {
   "cell_type": "code",
   "execution_count": 325,
   "metadata": {},
   "outputs": [
    {
     "data": {
      "image/png": "[encoded data removed]",
      "text/plain": [
       "<matplotlib.figure.Figure at 0x1c1790cb00>"
      ]
     },
     "metadata": {},
     "output_type": "display_data"
    }
   ],
   "source": [
    "sns.set(rc={'figure.figsize':(11.7,50)})\n",
    "p = sns.countplot(y = 'district', data = sdf, order = sdf['district'].value_counts().index).set_title('Number of Schools per District')\n"
   ]
  },
  {
   "cell_type": "markdown",
   "metadata": {},
   "source": [
    "There seems to be a disproportionate number of schools per district represented in the dataset. District 239 has 31 schools while there are 53 other districts with only 1 school represented."
   ]
  },
  {
   "cell_type": "code",
   "execution_count": 326,
   "metadata": {},
   "outputs": [
    {
     "data": {
      "text/plain": [
       "district               0\n",
       "schl1                  0\n",
       "enrollment             0\n",
       "asian_pct             27\n",
       "black_pct             27\n",
       "hispanic_pct          27\n",
       "white_pct             27\n",
       "pct_frl               27\n",
       "ed_lesshs              1\n",
       "positive_env           0\n",
       "mathscore_gain_std     0\n",
       "dtype: int64"
      ]
     },
     "execution_count": 326,
     "metadata": {},
     "output_type": "execute_result"
    }
   ],
   "source": [
    "sdf.isnull().sum()"
   ]
  },
  {
   "cell_type": "code",
   "execution_count": 327,
   "metadata": {},
   "outputs": [
    {
     "name": "stdout",
     "output_type": "stream",
     "text": [
      "(28, 11)\n",
      "     district  schl1  enrollment  asian_pct  black_pct  hispanic_pct  \\\n",
      "39       2159   1642         358        NaN        NaN           NaN   \n",
      "67       4539   3738         268        NaN        NaN           NaN   \n",
      "68       5859   6286         358        NaN        NaN           NaN   \n",
      "81       1304   1054         200        NaN        NaN           NaN   \n",
      "85       5334   5289         702        NaN        NaN           NaN   \n",
      "88       1974   1462         300        NaN        NaN           NaN   \n",
      "103      3999   3294         140        NaN        NaN           NaN   \n",
      "144      4664   3766         355        NaN        NaN           NaN   \n",
      "145      4249   3474         347        NaN        NaN           NaN   \n",
      "148      4619   3830         675        NaN        NaN           NaN   \n",
      "183      1659   1258         522        NaN        NaN           NaN   \n",
      "187      2944   2426         725        NaN        NaN           NaN   \n",
      "195       239    186         286        NaN        NaN           NaN   \n",
      "274      4744   4334         397        NaN        NaN           NaN   \n",
      "285       754    622         610        NaN        NaN           NaN   \n",
      "293      3949   3250         122        NaN        NaN           NaN   \n",
      "329      5354   5353         552        NaN        NaN           NaN   \n",
      "371      1839   1334         314        NaN        NaN           NaN   \n",
      "386      3184   2626         456        NaN        NaN           NaN   \n",
      "394      3149   2579         496        0.0   0.002053           0.0   \n",
      "398      4714   4440         355        NaN        NaN           NaN   \n",
      "410       879    698         397        NaN        NaN           NaN   \n",
      "418      1974   1478         243        NaN        NaN           NaN   \n",
      "421      2984   2450         335        NaN        NaN           NaN   \n",
      "474      3999   3298         138        NaN        NaN           NaN   \n",
      "483      1304   1058         229        NaN        NaN           NaN   \n",
      "488      1129    916         232        NaN        NaN           NaN   \n",
      "512      4419   3654         308        NaN        NaN           NaN   \n",
      "\n",
      "     white_pct  pct_frl  ed_lesshs  positive_env  mathscore_gain_std  \n",
      "39         NaN      NaN  31.900000             0            1.112068  \n",
      "67         NaN      NaN  24.900000             1            0.407426  \n",
      "68         NaN      NaN  18.799999             0            1.354968  \n",
      "81         NaN      NaN  29.400000             0           -1.035049  \n",
      "85         NaN      NaN   9.400000             0            0.867408  \n",
      "88         NaN      NaN  23.799999             1           -1.633518  \n",
      "103        NaN      NaN  18.299999             0            0.411487  \n",
      "144        NaN      NaN  12.400000             0            1.212134  \n",
      "145        NaN      NaN  12.800000             0            0.298029  \n",
      "148        NaN      NaN   8.600000             0            1.738986  \n",
      "183        NaN      NaN  21.200001             1           -0.032557  \n",
      "187        NaN      NaN  21.200001             0           -0.816038  \n",
      "195        NaN      NaN  16.000000             0           -0.057523  \n",
      "274        NaN      NaN   7.000000             0            0.870401  \n",
      "285        NaN      NaN  14.900000             1            1.002799  \n",
      "293        NaN      NaN  21.500000             0            0.457790  \n",
      "329        NaN      NaN   7.900000             0            1.552696  \n",
      "371        NaN      NaN  15.200000             0           -0.555412  \n",
      "386        NaN      NaN  18.900000             1           -0.294817  \n",
      "394    0.98152  0.15587        NaN             1           -0.032405  \n",
      "398        NaN      NaN  24.400000             1           -2.896326  \n",
      "410        NaN      NaN  21.900000             0            0.145097  \n",
      "418        NaN      NaN  23.799999             0           -2.096035  \n",
      "421        NaN      NaN  19.700001             0           -0.369864  \n",
      "474        NaN      NaN  18.299999             0           -0.880281  \n",
      "483        NaN      NaN  29.400000             0           -0.040749  \n",
      "488        NaN      NaN  17.799999             0           -0.012751  \n",
      "512        NaN      NaN  17.500000             0           -1.601093  \n"
     ]
    }
   ],
   "source": [
    "null_data = sdf[sdf.isnull().any(axis=1)]\n",
    "print(null_data.shape)\n",
    "print(null_data)"
   ]
  },
  {
   "cell_type": "code",
   "execution_count": 328,
   "metadata": {},
   "outputs": [
    {
     "data": {
      "text/html": [
       "<div>\n",
       "<style scoped>\n",
       "    .dataframe tbody tr th:only-of-type {\n",
       "        vertical-align: middle;\n",
       "    }\n",
       "\n",
       "    .dataframe tbody tr th {\n",
       "        vertical-align: top;\n",
       "    }\n",
       "\n",
       "    .dataframe thead th {\n",
       "        text-align: right;\n",
       "    }\n",
       "</style>\n",
       "<table border=\"1\" class=\"dataframe\">\n",
       "  <thead>\n",
       "    <tr style=\"text-align: right;\">\n",
       "      <th></th>\n",
       "      <th>corp1</th>\n",
       "      <th>treatment</th>\n",
       "      <th>district</th>\n",
       "      <th>schl1</th>\n",
       "      <th>enrollment</th>\n",
       "      <th>asian_pct</th>\n",
       "      <th>black_pct</th>\n",
       "      <th>hispanic_pct</th>\n",
       "      <th>white_pct</th>\n",
       "      <th>pct_frl</th>\n",
       "      <th>ed_lesshs</th>\n",
       "      <th>positive_env</th>\n",
       "      <th>mathscore_gain_std</th>\n",
       "    </tr>\n",
       "  </thead>\n",
       "  <tbody>\n",
       "    <tr>\n",
       "      <th>0</th>\n",
       "      <td>29</td>\n",
       "      <td>1</td>\n",
       "      <td>29.0</td>\n",
       "      <td>30.0</td>\n",
       "      <td>329.0</td>\n",
       "      <td>0.003021</td>\n",
       "      <td>0.009063</td>\n",
       "      <td>0.096677</td>\n",
       "      <td>0.851964</td>\n",
       "      <td>0.379603</td>\n",
       "      <td>14.5</td>\n",
       "      <td>0.0</td>\n",
       "      <td>-0.457215</td>\n",
       "    </tr>\n",
       "    <tr>\n",
       "      <th>1</th>\n",
       "      <td>29</td>\n",
       "      <td>1</td>\n",
       "      <td>29.0</td>\n",
       "      <td>34.0</td>\n",
       "      <td>335.0</td>\n",
       "      <td>0.003135</td>\n",
       "      <td>0.003135</td>\n",
       "      <td>0.065831</td>\n",
       "      <td>0.815047</td>\n",
       "      <td>0.318885</td>\n",
       "      <td>14.5</td>\n",
       "      <td>0.0</td>\n",
       "      <td>-0.537477</td>\n",
       "    </tr>\n",
       "    <tr>\n",
       "      <th>2</th>\n",
       "      <td>29</td>\n",
       "      <td>1</td>\n",
       "      <td>29.0</td>\n",
       "      <td>2.0</td>\n",
       "      <td>233.0</td>\n",
       "      <td>0.000000</td>\n",
       "      <td>0.004237</td>\n",
       "      <td>0.042373</td>\n",
       "      <td>0.927966</td>\n",
       "      <td>0.300000</td>\n",
       "      <td>14.5</td>\n",
       "      <td>0.0</td>\n",
       "      <td>0.300080</td>\n",
       "    </tr>\n",
       "    <tr>\n",
       "      <th>3</th>\n",
       "      <td>129</td>\n",
       "      <td>1</td>\n",
       "      <td>129.0</td>\n",
       "      <td>38.0</td>\n",
       "      <td>499.0</td>\n",
       "      <td>0.038710</td>\n",
       "      <td>0.019355</td>\n",
       "      <td>0.019355</td>\n",
       "      <td>0.901075</td>\n",
       "      <td>0.018382</td>\n",
       "      <td>3.8</td>\n",
       "      <td>1.0</td>\n",
       "      <td>0.955901</td>\n",
       "    </tr>\n",
       "    <tr>\n",
       "      <th>4</th>\n",
       "      <td>129</td>\n",
       "      <td>1</td>\n",
       "      <td>129.0</td>\n",
       "      <td>64.0</td>\n",
       "      <td>507.0</td>\n",
       "      <td>0.054230</td>\n",
       "      <td>0.013015</td>\n",
       "      <td>0.019523</td>\n",
       "      <td>0.902386</td>\n",
       "      <td>0.003846</td>\n",
       "      <td>3.8</td>\n",
       "      <td>1.0</td>\n",
       "      <td>1.343666</td>\n",
       "    </tr>\n",
       "    <tr>\n",
       "      <th>5</th>\n",
       "      <td>129</td>\n",
       "      <td>1</td>\n",
       "      <td>129.0</td>\n",
       "      <td>61.0</td>\n",
       "      <td>383.0</td>\n",
       "      <td>0.020089</td>\n",
       "      <td>0.042411</td>\n",
       "      <td>0.022321</td>\n",
       "      <td>0.892857</td>\n",
       "      <td>0.031008</td>\n",
       "      <td>3.8</td>\n",
       "      <td>0.0</td>\n",
       "      <td>1.630452</td>\n",
       "    </tr>\n",
       "    <tr>\n",
       "      <th>6</th>\n",
       "      <td>129</td>\n",
       "      <td>1</td>\n",
       "      <td>129.0</td>\n",
       "      <td>39.0</td>\n",
       "      <td>531.0</td>\n",
       "      <td>0.032653</td>\n",
       "      <td>0.073469</td>\n",
       "      <td>0.030612</td>\n",
       "      <td>0.840816</td>\n",
       "      <td>0.028926</td>\n",
       "      <td>3.8</td>\n",
       "      <td>0.0</td>\n",
       "      <td>1.739707</td>\n",
       "    </tr>\n",
       "    <tr>\n",
       "      <th>7</th>\n",
       "      <td>239</td>\n",
       "      <td>0</td>\n",
       "      <td>239.0</td>\n",
       "      <td>155.0</td>\n",
       "      <td>514.0</td>\n",
       "      <td>0.017143</td>\n",
       "      <td>0.179048</td>\n",
       "      <td>0.032381</td>\n",
       "      <td>0.735238</td>\n",
       "      <td>0.349462</td>\n",
       "      <td>16.0</td>\n",
       "      <td>1.0</td>\n",
       "      <td>-0.846501</td>\n",
       "    </tr>\n",
       "    <tr>\n",
       "      <th>8</th>\n",
       "      <td>239</td>\n",
       "      <td>0</td>\n",
       "      <td>239.0</td>\n",
       "      <td>263.0</td>\n",
       "      <td>621.0</td>\n",
       "      <td>0.045662</td>\n",
       "      <td>0.242009</td>\n",
       "      <td>0.070015</td>\n",
       "      <td>0.563166</td>\n",
       "      <td>0.392366</td>\n",
       "      <td>16.0</td>\n",
       "      <td>0.0</td>\n",
       "      <td>-0.608421</td>\n",
       "    </tr>\n",
       "    <tr>\n",
       "      <th>9</th>\n",
       "      <td>239</td>\n",
       "      <td>0</td>\n",
       "      <td>239.0</td>\n",
       "      <td>146.0</td>\n",
       "      <td>452.0</td>\n",
       "      <td>0.047930</td>\n",
       "      <td>0.250545</td>\n",
       "      <td>0.032680</td>\n",
       "      <td>0.603486</td>\n",
       "      <td>0.423767</td>\n",
       "      <td>16.0</td>\n",
       "      <td>1.0</td>\n",
       "      <td>1.103983</td>\n",
       "    </tr>\n",
       "    <tr>\n",
       "      <th>10</th>\n",
       "      <td>239</td>\n",
       "      <td>0</td>\n",
       "      <td>239.0</td>\n",
       "      <td>198.0</td>\n",
       "      <td>400.0</td>\n",
       "      <td>0.021220</td>\n",
       "      <td>0.320955</td>\n",
       "      <td>0.143236</td>\n",
       "      <td>0.496021</td>\n",
       "      <td>0.582310</td>\n",
       "      <td>16.0</td>\n",
       "      <td>1.0</td>\n",
       "      <td>-0.786966</td>\n",
       "    </tr>\n",
       "    <tr>\n",
       "      <th>11</th>\n",
       "      <td>239</td>\n",
       "      <td>0</td>\n",
       "      <td>239.0</td>\n",
       "      <td>214.0</td>\n",
       "      <td>511.0</td>\n",
       "      <td>0.012195</td>\n",
       "      <td>0.101626</td>\n",
       "      <td>0.038618</td>\n",
       "      <td>0.788618</td>\n",
       "      <td>0.450677</td>\n",
       "      <td>16.0</td>\n",
       "      <td>1.0</td>\n",
       "      <td>-1.221598</td>\n",
       "    </tr>\n",
       "    <tr>\n",
       "      <th>12</th>\n",
       "      <td>239</td>\n",
       "      <td>0</td>\n",
       "      <td>239.0</td>\n",
       "      <td>210.0</td>\n",
       "      <td>489.0</td>\n",
       "      <td>0.088745</td>\n",
       "      <td>0.270563</td>\n",
       "      <td>0.145022</td>\n",
       "      <td>0.450216</td>\n",
       "      <td>0.556660</td>\n",
       "      <td>16.0</td>\n",
       "      <td>0.0</td>\n",
       "      <td>-2.542357</td>\n",
       "    </tr>\n",
       "    <tr>\n",
       "      <th>13</th>\n",
       "      <td>239</td>\n",
       "      <td>0</td>\n",
       "      <td>239.0</td>\n",
       "      <td>182.0</td>\n",
       "      <td>389.0</td>\n",
       "      <td>0.010101</td>\n",
       "      <td>0.219697</td>\n",
       "      <td>0.204545</td>\n",
       "      <td>0.489899</td>\n",
       "      <td>0.559078</td>\n",
       "      <td>16.0</td>\n",
       "      <td>0.0</td>\n",
       "      <td>-0.622134</td>\n",
       "    </tr>\n",
       "    <tr>\n",
       "      <th>14</th>\n",
       "      <td>239</td>\n",
       "      <td>0</td>\n",
       "      <td>239.0</td>\n",
       "      <td>246.0</td>\n",
       "      <td>392.0</td>\n",
       "      <td>0.007895</td>\n",
       "      <td>0.339474</td>\n",
       "      <td>0.231579</td>\n",
       "      <td>0.328947</td>\n",
       "      <td>0.784810</td>\n",
       "      <td>16.0</td>\n",
       "      <td>0.0</td>\n",
       "      <td>-2.927336</td>\n",
       "    </tr>\n",
       "    <tr>\n",
       "      <th>15</th>\n",
       "      <td>239</td>\n",
       "      <td>0</td>\n",
       "      <td>239.0</td>\n",
       "      <td>186.0</td>\n",
       "      <td>286.0</td>\n",
       "      <td>NaN</td>\n",
       "      <td>NaN</td>\n",
       "      <td>NaN</td>\n",
       "      <td>NaN</td>\n",
       "      <td>NaN</td>\n",
       "      <td>16.0</td>\n",
       "      <td>0.0</td>\n",
       "      <td>-0.057523</td>\n",
       "    </tr>\n",
       "  </tbody>\n",
       "</table>\n",
       "</div>"
      ],
      "text/plain": [
       "    corp1  treatment  district  schl1  enrollment  asian_pct  black_pct  \\\n",
       "0      29          1      29.0   30.0       329.0   0.003021   0.009063   \n",
       "1      29          1      29.0   34.0       335.0   0.003135   0.003135   \n",
       "2      29          1      29.0    2.0       233.0   0.000000   0.004237   \n",
       "3     129          1     129.0   38.0       499.0   0.038710   0.019355   \n",
       "4     129          1     129.0   64.0       507.0   0.054230   0.013015   \n",
       "5     129          1     129.0   61.0       383.0   0.020089   0.042411   \n",
       "6     129          1     129.0   39.0       531.0   0.032653   0.073469   \n",
       "7     239          0     239.0  155.0       514.0   0.017143   0.179048   \n",
       "8     239          0     239.0  263.0       621.0   0.045662   0.242009   \n",
       "9     239          0     239.0  146.0       452.0   0.047930   0.250545   \n",
       "10    239          0     239.0  198.0       400.0   0.021220   0.320955   \n",
       "11    239          0     239.0  214.0       511.0   0.012195   0.101626   \n",
       "12    239          0     239.0  210.0       489.0   0.088745   0.270563   \n",
       "13    239          0     239.0  182.0       389.0   0.010101   0.219697   \n",
       "14    239          0     239.0  246.0       392.0   0.007895   0.339474   \n",
       "15    239          0     239.0  186.0       286.0        NaN        NaN   \n",
       "\n",
       "    hispanic_pct  white_pct   pct_frl  ed_lesshs  positive_env  \\\n",
       "0       0.096677   0.851964  0.379603       14.5           0.0   \n",
       "1       0.065831   0.815047  0.318885       14.5           0.0   \n",
       "2       0.042373   0.927966  0.300000       14.5           0.0   \n",
       "3       0.019355   0.901075  0.018382        3.8           1.0   \n",
       "4       0.019523   0.902386  0.003846        3.8           1.0   \n",
       "5       0.022321   0.892857  0.031008        3.8           0.0   \n",
       "6       0.030612   0.840816  0.028926        3.8           0.0   \n",
       "7       0.032381   0.735238  0.349462       16.0           1.0   \n",
       "8       0.070015   0.563166  0.392366       16.0           0.0   \n",
       "9       0.032680   0.603486  0.423767       16.0           1.0   \n",
       "10      0.143236   0.496021  0.582310       16.0           1.0   \n",
       "11      0.038618   0.788618  0.450677       16.0           1.0   \n",
       "12      0.145022   0.450216  0.556660       16.0           0.0   \n",
       "13      0.204545   0.489899  0.559078       16.0           0.0   \n",
       "14      0.231579   0.328947  0.784810       16.0           0.0   \n",
       "15           NaN        NaN       NaN       16.0           0.0   \n",
       "\n",
       "    mathscore_gain_std  \n",
       "0            -0.457215  \n",
       "1            -0.537477  \n",
       "2             0.300080  \n",
       "3             0.955901  \n",
       "4             1.343666  \n",
       "5             1.630452  \n",
       "6             1.739707  \n",
       "7            -0.846501  \n",
       "8            -0.608421  \n",
       "9             1.103983  \n",
       "10           -0.786966  \n",
       "11           -1.221598  \n",
       "12           -2.542357  \n",
       "13           -0.622134  \n",
       "14           -2.927336  \n",
       "15           -0.057523  "
      ]
     },
     "execution_count": 328,
     "metadata": {},
     "output_type": "execute_result"
    }
   ],
   "source": [
    "df = pd.merge(ddf, sdf, left_on='corp1', right_on='district', how = 'outer')\n",
    "df.head(16)"
   ]
  },
  {
   "cell_type": "code",
   "execution_count": 329,
   "metadata": {},
   "outputs": [
    {
     "data": {
      "text/plain": [
       "(524, 13)"
      ]
     },
     "execution_count": 329,
     "metadata": {},
     "output_type": "execute_result"
    }
   ],
   "source": [
    "df.shape"
   ]
  },
  {
   "cell_type": "markdown",
   "metadata": {},
   "source": [
    "After doing an outer join to merge both datasets there seems to be the the right expected number of data rows and columns. There were 4 districts that were in the districts dataset that were added on top of the 520 rows in the schools dataset. "
   ]
  },
  {
   "cell_type": "code",
   "execution_count": 330,
   "metadata": {},
   "outputs": [
    {
     "name": "stdout",
     "output_type": "stream",
     "text": [
      "(32, 13)\n",
      "     corp1  treatment  district   schl1  enrollment  asian_pct  black_pct  \\\n",
      "15     239          0     239.0   186.0       286.0        NaN        NaN   \n",
      "65     754          1     754.0   622.0       610.0        NaN        NaN   \n",
      "73     879          0     879.0   698.0       397.0        NaN        NaN   \n",
      "98    1129          1    1129.0   916.0       232.0        NaN        NaN   \n",
      "106   1304          1    1304.0  1054.0       200.0        NaN        NaN   \n",
      "110   1304          1    1304.0  1058.0       229.0        NaN        NaN   \n",
      "123   1659          1    1659.0  1258.0       522.0        NaN        NaN   \n",
      "129   1839          0    1839.0  1334.0       314.0        NaN        NaN   \n",
      "139   1974          0    1974.0  1462.0       300.0        NaN        NaN   \n",
      "149   1974          0    1974.0  1478.0       243.0        NaN        NaN   \n",
      "151   2044          1       NaN     NaN         NaN        NaN        NaN   \n",
      "155   2159          1    2159.0  1642.0       358.0        NaN        NaN   \n",
      "179   2769          1       NaN     NaN         NaN        NaN        NaN   \n",
      "196   2944          0    2944.0  2426.0       725.0        NaN        NaN   \n",
      "199   2984          1    2984.0  2450.0       335.0        NaN        NaN   \n",
      "214   3149          0    3149.0  2579.0       496.0        0.0   0.002053   \n",
      "217   3184          0    3184.0  2626.0       456.0        NaN        NaN   \n",
      "275   3949          1    3949.0  3250.0       122.0        NaN        NaN   \n",
      "278   3999          1    3999.0  3294.0       140.0        NaN        NaN   \n",
      "282   3999          1    3999.0  3298.0       138.0        NaN        NaN   \n",
      "285   4019          0       NaN     NaN         NaN        NaN        NaN   \n",
      "302   4249          1    4249.0  3474.0       347.0        NaN        NaN   \n",
      "318   4419          1    4419.0  3654.0       308.0        NaN        NaN   \n",
      "324   4539          1    4539.0  3738.0       268.0        NaN        NaN   \n",
      "331   4619          1    4619.0  3830.0       675.0        NaN        NaN   \n",
      "345   4664          1    4664.0  3766.0       355.0        NaN        NaN   \n",
      "362   4714          0    4714.0  4440.0       355.0        NaN        NaN   \n",
      "370   4744          1    4744.0  4334.0       397.0        NaN        NaN   \n",
      "418   5334          1    5334.0  5289.0       702.0        NaN        NaN   \n",
      "441   5354          1    5354.0  5353.0       552.0        NaN        NaN   \n",
      "497   5839          1       NaN     NaN         NaN        NaN        NaN   \n",
      "498   5859          0    5859.0  6286.0       358.0        NaN        NaN   \n",
      "\n",
      "     hispanic_pct  white_pct  pct_frl  ed_lesshs  positive_env  \\\n",
      "15            NaN        NaN      NaN  16.000000           0.0   \n",
      "65            NaN        NaN      NaN  14.900000           1.0   \n",
      "73            NaN        NaN      NaN  21.900000           0.0   \n",
      "98            NaN        NaN      NaN  17.799999           0.0   \n",
      "106           NaN        NaN      NaN  29.400000           0.0   \n",
      "110           NaN        NaN      NaN  29.400000           0.0   \n",
      "123           NaN        NaN      NaN  21.200001           1.0   \n",
      "129           NaN        NaN      NaN  15.200000           0.0   \n",
      "139           NaN        NaN      NaN  23.799999           1.0   \n",
      "149           NaN        NaN      NaN  23.799999           0.0   \n",
      "151           NaN        NaN      NaN        NaN           NaN   \n",
      "155           NaN        NaN      NaN  31.900000           0.0   \n",
      "179           NaN        NaN      NaN        NaN           NaN   \n",
      "196           NaN        NaN      NaN  21.200001           0.0   \n",
      "199           NaN        NaN      NaN  19.700001           0.0   \n",
      "214           0.0    0.98152  0.15587        NaN           1.0   \n",
      "217           NaN        NaN      NaN  18.900000           1.0   \n",
      "275           NaN        NaN      NaN  21.500000           0.0   \n",
      "278           NaN        NaN      NaN  18.299999           0.0   \n",
      "282           NaN        NaN      NaN  18.299999           0.0   \n",
      "285           NaN        NaN      NaN        NaN           NaN   \n",
      "302           NaN        NaN      NaN  12.800000           0.0   \n",
      "318           NaN        NaN      NaN  17.500000           0.0   \n",
      "324           NaN        NaN      NaN  24.900000           1.0   \n",
      "331           NaN        NaN      NaN   8.600000           0.0   \n",
      "345           NaN        NaN      NaN  12.400000           0.0   \n",
      "362           NaN        NaN      NaN  24.400000           1.0   \n",
      "370           NaN        NaN      NaN   7.000000           0.0   \n",
      "418           NaN        NaN      NaN   9.400000           0.0   \n",
      "441           NaN        NaN      NaN   7.900000           0.0   \n",
      "497           NaN        NaN      NaN        NaN           NaN   \n",
      "498           NaN        NaN      NaN  18.799999           0.0   \n",
      "\n",
      "     mathscore_gain_std  \n",
      "15            -0.057523  \n",
      "65             1.002799  \n",
      "73             0.145097  \n",
      "98            -0.012751  \n",
      "106           -1.035049  \n",
      "110           -0.040749  \n",
      "123           -0.032557  \n",
      "129           -0.555412  \n",
      "139           -1.633518  \n",
      "149           -2.096035  \n",
      "151                 NaN  \n",
      "155            1.112068  \n",
      "179                 NaN  \n",
      "196           -0.816038  \n",
      "199           -0.369864  \n",
      "214           -0.032405  \n",
      "217           -0.294817  \n",
      "275            0.457790  \n",
      "278            0.411487  \n",
      "282           -0.880281  \n",
      "285                 NaN  \n",
      "302            0.298029  \n",
      "318           -1.601093  \n",
      "324            0.407426  \n",
      "331            1.738986  \n",
      "345            1.212134  \n",
      "362           -2.896326  \n",
      "370            0.870401  \n",
      "418            0.867408  \n",
      "441            1.552696  \n",
      "497                 NaN  \n",
      "498            1.354968  \n"
     ]
    }
   ],
   "source": [
    "null_data = df[df.isnull().any(axis=1)]\n",
    "print(null_data.shape)\n",
    "print(null_data)"
   ]
  },
  {
   "cell_type": "code",
   "execution_count": 331,
   "metadata": {},
   "outputs": [
    {
     "data": {
      "text/plain": [
       "0.061068702290076333"
      ]
     },
     "execution_count": 331,
     "metadata": {},
     "output_type": "execute_result"
    }
   ],
   "source": [
    "32/524"
   ]
  },
  {
   "cell_type": "markdown",
   "metadata": {},
   "source": [
    "### Summary of Missing Values in the Joined Dataframe\n",
    "\n",
    "I wanted to make sure my joined dataset looked right. I previewed the 32 rows that had missing values in the new dataframe and everything seems correct. Rows with missing values account for about 6.11% of the total data. 4 of the rows only have data from the district dataset. There are 27 rows with only missing Race data (black, white, Asian, Hispanic) and percent free lunch. There is 1 row that only has missing local-area education level data. \n",
    "\n",
    "Before I try to find any anomolies in the data, I'm going to have to deal with the missing values first. "
   ]
  },
  {
   "cell_type": "code",
   "execution_count": 332,
   "metadata": {},
   "outputs": [
    {
     "data": {
      "text/plain": [
       "(520, 12)"
      ]
     },
     "execution_count": 332,
     "metadata": {},
     "output_type": "execute_result"
    }
   ],
   "source": [
    "df = pd.merge(ddf, sdf, left_on='corp1', right_on='district')\n",
    "df.drop(['district'], axis=1, inplace=True)\n",
    "df.shape"
   ]
  },
  {
   "cell_type": "markdown",
   "metadata": {},
   "source": [
    "I decided to get rid of the 4 data points that didn't have any school data because there was really no use for them in analyzing math performance when there is no data for it at all and because there was just 4 of them. I also dropped the `district` column as it is the same as the `corp1` column. \n",
    "\n",
    "For the rest of the missing values, I am going to replace them with a randomly generated number, who's mu value is set as the mean of the given column values and who's sigma value is set to the std of the given column values. This should be a good substitue for the missing data."
   ]
  },
  {
   "cell_type": "code",
   "execution_count": 333,
   "metadata": {},
   "outputs": [
    {
     "name": "stdout",
     "output_type": "stream",
     "text": [
      "corp1\n",
      "treatment\n",
      "schl1\n",
      "enrollment\n",
      "asian_pct\n",
      "black_pct\n",
      "hispanic_pct\n",
      "white_pct\n",
      "pct_frl\n",
      "ed_lesshs\n",
      "positive_env\n",
      "mathscore_gain_std\n"
     ]
    }
   ],
   "source": [
    "for column in df:\n",
    "    print(column)"
   ]
  },
  {
   "cell_type": "code",
   "execution_count": 334,
   "metadata": {},
   "outputs": [
    {
     "name": "stdout",
     "output_type": "stream",
     "text": [
      "['asian_pct', 'black_pct', 'hispanic_pct', 'white_pct', 'pct_frl', 'ed_lesshs']\n",
      "{'asian_pct': (0.01075677969979716, 0.020236213079422721),\n",
      " 'black_pct': (0.081781314880324557, 0.14718297638478267),\n",
      " 'ed_lesshs': (17.528130864973026, 6.4023793195403895),\n",
      " 'hispanic_pct': (0.055240283257606493, 0.089825756735112949),\n",
      " 'pct_frl': (0.33870936964097359, 0.18899462583584203),\n",
      " 'white_pct': (0.81393108290872207, 0.21220774675443163)}\n"
     ]
    }
   ],
   "source": [
    "#create dictionary for mu,sigma of all columns that contain missing values\n",
    "column_stat_table = {}\n",
    "\n",
    "list_col = df.columns[df.isna().any()].tolist()\n",
    "print(list_col)\n",
    "for i in list_col:\n",
    "    mean = np.nanmean(df[i])\n",
    "    std = np.nanstd(df[i])\n",
    "    name = i\n",
    "    column_stat_table[name] = (mean, std)\n",
    "        \n",
    "pprint(column_stat_table)\n",
    "\n",
    "#replace all missing values with a random number in the column's distribution\n",
    "df.fillna(99999, inplace = True)\n",
    "for column in df:\n",
    "    if column in list_col:\n",
    "        for tup in df[column].iteritems():\n",
    "            val = tup[1]\n",
    "            if val == 99999:\n",
    "                mu = column_stat_table[column][0]\n",
    "                std = column_stat_table[column][1]\n",
    "                random_val = abs(np.random.normal(mu, std))\n",
    "                df[column].replace(val, random_val, inplace=True)\n",
    "    \n",
    "\n",
    "\n"
   ]
  },
  {
   "cell_type": "code",
   "execution_count": 335,
   "metadata": {},
   "outputs": [
    {
     "name": "stdout",
     "output_type": "stream",
     "text": [
      "(0, 12)\n",
      "Empty DataFrame\n",
      "Columns: [corp1, treatment, schl1, enrollment, asian_pct, black_pct, hispanic_pct, white_pct, pct_frl, ed_lesshs, positive_env, mathscore_gain_std]\n",
      "Index: []\n",
      "corp1                 239.000000\n",
      "treatment               0.000000\n",
      "schl1                 186.000000\n",
      "enrollment            286.000000\n",
      "asian_pct               0.034312\n",
      "black_pct               0.176619\n",
      "hispanic_pct            0.013368\n",
      "white_pct               0.854221\n",
      "pct_frl                 0.636464\n",
      "ed_lesshs              16.000000\n",
      "positive_env            0.000000\n",
      "mathscore_gain_std     -0.057523\n",
      "Name: 15, dtype: float64\n"
     ]
    }
   ],
   "source": [
    "null_data = df[df.isnull().any(axis=1)]\n",
    "print(null_data.shape)\n",
    "print(null_data)\n",
    "print(df.iloc[15])"
   ]
  },
  {
   "cell_type": "markdown",
   "metadata": {},
   "source": [
    "Now that I've finished dealing with all the missing values, I will continue to explore the data."
   ]
  },
  {
   "cell_type": "code",
   "execution_count": 336,
   "metadata": {},
   "outputs": [
    {
     "ename": "ValueError",
     "evalue": "labels ['district'] not contained in axis",
     "output_type": "error",
     "traceback": [
      "\u001b[0;31m---------------------------------------------------------------------------\u001b[0m",
      "\u001b[0;31mValueError\u001b[0m                                Traceback (most recent call last)",
      "\u001b[0;32m<ipython-input-336-16119075ca05>\u001b[0m in \u001b[0;36m<module>\u001b[0;34m()\u001b[0m\n\u001b[0;32m----> 1\u001b[0;31m \u001b[0mdf\u001b[0m \u001b[0;34m=\u001b[0m \u001b[0mdf\u001b[0m\u001b[0;34m.\u001b[0m\u001b[0mdrop\u001b[0m\u001b[0;34m(\u001b[0m\u001b[0;34m[\u001b[0m\u001b[0;34m'district'\u001b[0m\u001b[0;34m]\u001b[0m\u001b[0;34m,\u001b[0m \u001b[0maxis\u001b[0m\u001b[0;34m=\u001b[0m\u001b[0;36m1\u001b[0m\u001b[0;34m)\u001b[0m\u001b[0;34m\u001b[0m\u001b[0m\n\u001b[0m\u001b[1;32m      2\u001b[0m \u001b[0mdf\u001b[0m\u001b[0;34m.\u001b[0m\u001b[0mshape\u001b[0m\u001b[0;34m\u001b[0m\u001b[0m\n",
      "\u001b[0;32m//anaconda/envs/py35/lib/python3.5/site-packages/pandas/core/generic.py\u001b[0m in \u001b[0;36mdrop\u001b[0;34m(self, labels, axis, index, columns, level, inplace, errors)\u001b[0m\n\u001b[1;32m   2528\u001b[0m         \u001b[0;32mfor\u001b[0m \u001b[0maxis\u001b[0m\u001b[0;34m,\u001b[0m \u001b[0mlabels\u001b[0m \u001b[0;32min\u001b[0m \u001b[0maxes\u001b[0m\u001b[0;34m.\u001b[0m\u001b[0mitems\u001b[0m\u001b[0;34m(\u001b[0m\u001b[0;34m)\u001b[0m\u001b[0;34m:\u001b[0m\u001b[0;34m\u001b[0m\u001b[0m\n\u001b[1;32m   2529\u001b[0m             \u001b[0;32mif\u001b[0m \u001b[0mlabels\u001b[0m \u001b[0;32mis\u001b[0m \u001b[0;32mnot\u001b[0m \u001b[0;32mNone\u001b[0m\u001b[0;34m:\u001b[0m\u001b[0;34m\u001b[0m\u001b[0m\n\u001b[0;32m-> 2530\u001b[0;31m                 \u001b[0mobj\u001b[0m \u001b[0;34m=\u001b[0m \u001b[0mobj\u001b[0m\u001b[0;34m.\u001b[0m\u001b[0m_drop_axis\u001b[0m\u001b[0;34m(\u001b[0m\u001b[0mlabels\u001b[0m\u001b[0;34m,\u001b[0m \u001b[0maxis\u001b[0m\u001b[0;34m,\u001b[0m \u001b[0mlevel\u001b[0m\u001b[0;34m=\u001b[0m\u001b[0mlevel\u001b[0m\u001b[0;34m,\u001b[0m \u001b[0merrors\u001b[0m\u001b[0;34m=\u001b[0m\u001b[0merrors\u001b[0m\u001b[0;34m)\u001b[0m\u001b[0;34m\u001b[0m\u001b[0m\n\u001b[0m\u001b[1;32m   2531\u001b[0m \u001b[0;34m\u001b[0m\u001b[0m\n\u001b[1;32m   2532\u001b[0m         \u001b[0;32mif\u001b[0m \u001b[0minplace\u001b[0m\u001b[0;34m:\u001b[0m\u001b[0;34m\u001b[0m\u001b[0m\n",
      "\u001b[0;32m//anaconda/envs/py35/lib/python3.5/site-packages/pandas/core/generic.py\u001b[0m in \u001b[0;36m_drop_axis\u001b[0;34m(self, labels, axis, level, errors)\u001b[0m\n\u001b[1;32m   2560\u001b[0m                 \u001b[0mnew_axis\u001b[0m \u001b[0;34m=\u001b[0m \u001b[0maxis\u001b[0m\u001b[0;34m.\u001b[0m\u001b[0mdrop\u001b[0m\u001b[0;34m(\u001b[0m\u001b[0mlabels\u001b[0m\u001b[0;34m,\u001b[0m \u001b[0mlevel\u001b[0m\u001b[0;34m=\u001b[0m\u001b[0mlevel\u001b[0m\u001b[0;34m,\u001b[0m \u001b[0merrors\u001b[0m\u001b[0;34m=\u001b[0m\u001b[0merrors\u001b[0m\u001b[0;34m)\u001b[0m\u001b[0;34m\u001b[0m\u001b[0m\n\u001b[1;32m   2561\u001b[0m             \u001b[0;32melse\u001b[0m\u001b[0;34m:\u001b[0m\u001b[0;34m\u001b[0m\u001b[0m\n\u001b[0;32m-> 2562\u001b[0;31m                 \u001b[0mnew_axis\u001b[0m \u001b[0;34m=\u001b[0m \u001b[0maxis\u001b[0m\u001b[0;34m.\u001b[0m\u001b[0mdrop\u001b[0m\u001b[0;34m(\u001b[0m\u001b[0mlabels\u001b[0m\u001b[0;34m,\u001b[0m \u001b[0merrors\u001b[0m\u001b[0;34m=\u001b[0m\u001b[0merrors\u001b[0m\u001b[0;34m)\u001b[0m\u001b[0;34m\u001b[0m\u001b[0m\n\u001b[0m\u001b[1;32m   2563\u001b[0m             \u001b[0mdropped\u001b[0m \u001b[0;34m=\u001b[0m \u001b[0mself\u001b[0m\u001b[0;34m.\u001b[0m\u001b[0mreindex\u001b[0m\u001b[0;34m(\u001b[0m\u001b[0;34m**\u001b[0m\u001b[0;34m{\u001b[0m\u001b[0maxis_name\u001b[0m\u001b[0;34m:\u001b[0m \u001b[0mnew_axis\u001b[0m\u001b[0;34m}\u001b[0m\u001b[0;34m)\u001b[0m\u001b[0;34m\u001b[0m\u001b[0m\n\u001b[1;32m   2564\u001b[0m             \u001b[0;32mtry\u001b[0m\u001b[0;34m:\u001b[0m\u001b[0;34m\u001b[0m\u001b[0m\n",
      "\u001b[0;32m//anaconda/envs/py35/lib/python3.5/site-packages/pandas/core/indexes/base.py\u001b[0m in \u001b[0;36mdrop\u001b[0;34m(self, labels, errors)\u001b[0m\n\u001b[1;32m   3742\u001b[0m             \u001b[0;32mif\u001b[0m \u001b[0merrors\u001b[0m \u001b[0;34m!=\u001b[0m \u001b[0;34m'ignore'\u001b[0m\u001b[0;34m:\u001b[0m\u001b[0;34m\u001b[0m\u001b[0m\n\u001b[1;32m   3743\u001b[0m                 raise ValueError('labels %s not contained in axis' %\n\u001b[0;32m-> 3744\u001b[0;31m                                  labels[mask])\n\u001b[0m\u001b[1;32m   3745\u001b[0m             \u001b[0mindexer\u001b[0m \u001b[0;34m=\u001b[0m \u001b[0mindexer\u001b[0m\u001b[0;34m[\u001b[0m\u001b[0;34m~\u001b[0m\u001b[0mmask\u001b[0m\u001b[0;34m]\u001b[0m\u001b[0;34m\u001b[0m\u001b[0m\n\u001b[1;32m   3746\u001b[0m         \u001b[0;32mreturn\u001b[0m \u001b[0mself\u001b[0m\u001b[0;34m.\u001b[0m\u001b[0mdelete\u001b[0m\u001b[0;34m(\u001b[0m\u001b[0mindexer\u001b[0m\u001b[0;34m)\u001b[0m\u001b[0;34m\u001b[0m\u001b[0m\n",
      "\u001b[0;31mValueError\u001b[0m: labels ['district'] not contained in axis"
     ]
    }
   ],
   "source": []
  },
  {
   "cell_type": "code",
   "execution_count": null,
   "metadata": {},
   "outputs": [],
   "source": [
    "'''\n",
    "#for later analysis to see the mean columns per district\n",
    "\n",
    "print(df.shap\n",
    "table = pd.pivot_table(df, index = ['district'], aggfunc=np.mean)\n",
    "print(table)\n",
    "'''"
   ]
  }
 ],
 "metadata": {
  "kernelspec": {
   "display_name": "Python [conda env:py35]",
   "language": "python",
   "name": "conda-env-py35-py"
  },
  "language_info": {
   "codemirror_mode": {
    "name": "ipython",
    "version": 3
   },
   "file_extension": ".py",
   "mimetype": "text/x-python",
   "name": "python",
   "nbconvert_exporter": "python",
   "pygments_lexer": "ipython3",
   "version": "3.5.4"
  }
 },
 "nbformat": 4,
 "nbformat_minor": 2
}
